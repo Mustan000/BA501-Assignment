{
 "cells": [
  {
   "cell_type": "code",
   "execution_count": 13,
   "metadata": {},
   "outputs": [
    {
     "data": {
      "text/html": [
       "<script>jQuery(function() {if (jQuery(\"body.notebook_app\").length == 0) { jQuery(\".input_area\").toggle(); jQuery(\".prompt\").toggle();}});</script>"
      ]
     },
     "metadata": {},
     "output_type": "display_data"
    },
    {
     "data": {
      "text/html": [
       "<button onclick=\"jQuery('.input_area').toggle(); jQuery('.prompt').toggle();\">Toggle code</button>"
      ]
     },
     "metadata": {},
     "output_type": "display_data"
    }
   ],
   "source": [
    "%matplotlib inline\n",
    "import numpy as np\n",
    "import pandas as pd\n",
    "import matplotlib.pyplot as plt\n",
    "import datetime\n",
    "\n",
    "from IPython.display import display\n",
    "from IPython.display import HTML\n",
    "import IPython.core.display as di\n",
    "\n",
    "# This line will hide code by default when the notebook is exported as HTML\n",
    "di.display_html('<script>jQuery(function() {if (jQuery(\"body.notebook_app\").length == 0) { jQuery(\".input_area\").toggle(); jQuery(\".prompt\").toggle();}});</script>', raw=True)\n",
    "\n",
    "# This line will add a button to toggle visibility of code blocks, for use with the HTML export version\n",
    "di.display_html('''<button onclick=\"jQuery('.input_area').toggle(); jQuery('.prompt').toggle();\">Toggle code</button>''', raw=True)"
   ]
  },
  {
   "cell_type": "markdown",
   "metadata": {},
   "source": [
    "## Question 1-a\n",
    "handling duplicate value in a dataset in Python"
   ]
  },
  {
   "cell_type": "code",
   "execution_count": 14,
   "metadata": {
    "collapsed": true
   },
   "outputs": [],
   "source": [
    "# Import data from csv file"
   ]
  },
  {
   "cell_type": "code",
   "execution_count": 15,
   "metadata": {},
   "outputs": [
    {
     "data": {
      "text/html": [
       "<div>\n",
       "<style>\n",
       "    .dataframe thead tr:only-child th {\n",
       "        text-align: right;\n",
       "    }\n",
       "\n",
       "    .dataframe thead th {\n",
       "        text-align: left;\n",
       "    }\n",
       "\n",
       "    .dataframe tbody tr th {\n",
       "        vertical-align: top;\n",
       "    }\n",
       "</style>\n",
       "<table border=\"1\" class=\"dataframe\">\n",
       "  <thead>\n",
       "    <tr style=\"text-align: right;\">\n",
       "      <th></th>\n",
       "      <th>country</th>\n",
       "      <th>date</th>\n",
       "      <th>experiment_id</th>\n",
       "      <th>order_id</th>\n",
       "      <th>spend_usd</th>\n",
       "      <th>user_id</th>\n",
       "      <th>vertical</th>\n",
       "    </tr>\n",
       "  </thead>\n",
       "  <tbody>\n",
       "    <tr>\n",
       "      <th>0</th>\n",
       "      <td>JP</td>\n",
       "      <td>20170402</td>\n",
       "      <td>12624548</td>\n",
       "      <td>5813140433216629693</td>\n",
       "      <td>16.138855</td>\n",
       "      <td>5006730028073359543</td>\n",
       "      <td>ANDROID_APPS</td>\n",
       "    </tr>\n",
       "    <tr>\n",
       "      <th>1</th>\n",
       "      <td>US</td>\n",
       "      <td>20170403</td>\n",
       "      <td>12624549</td>\n",
       "      <td>16333056276711034931</td>\n",
       "      <td>9.990000</td>\n",
       "      <td>5938685669571545259</td>\n",
       "      <td>ANDROID_APPS</td>\n",
       "    </tr>\n",
       "    <tr>\n",
       "      <th>2</th>\n",
       "      <td>JP</td>\n",
       "      <td>20170404</td>\n",
       "      <td>12624548</td>\n",
       "      <td>11227119161741298366</td>\n",
       "      <td>19.887087</td>\n",
       "      <td>17623708458399141713</td>\n",
       "      <td>ANDROID_APPS</td>\n",
       "    </tr>\n",
       "    <tr>\n",
       "      <th>3</th>\n",
       "      <td>US</td>\n",
       "      <td>20170403</td>\n",
       "      <td>12624548</td>\n",
       "      <td>11927299833124210932</td>\n",
       "      <td>19.990000</td>\n",
       "      <td>18042812344456618148</td>\n",
       "      <td>ANDROID_APPS</td>\n",
       "    </tr>\n",
       "    <tr>\n",
       "      <th>4</th>\n",
       "      <td>JP</td>\n",
       "      <td>20170403</td>\n",
       "      <td>12624549</td>\n",
       "      <td>11644727017708872749</td>\n",
       "      <td>88.220093</td>\n",
       "      <td>4325104700699531031</td>\n",
       "      <td>ANDROID_APPS</td>\n",
       "    </tr>\n",
       "  </tbody>\n",
       "</table>\n",
       "</div>"
      ],
      "text/plain": [
       "  country      date  experiment_id              order_id  spend_usd  \\\n",
       "0      JP  20170402       12624548   5813140433216629693  16.138855   \n",
       "1      US  20170403       12624549  16333056276711034931   9.990000   \n",
       "2      JP  20170404       12624548  11227119161741298366  19.887087   \n",
       "3      US  20170403       12624548  11927299833124210932  19.990000   \n",
       "4      JP  20170403       12624549  11644727017708872749  88.220093   \n",
       "\n",
       "                user_id      vertical  \n",
       "0   5006730028073359543  ANDROID_APPS  \n",
       "1   5938685669571545259  ANDROID_APPS  \n",
       "2  17623708458399141713  ANDROID_APPS  \n",
       "3  18042812344456618148  ANDROID_APPS  \n",
       "4   4325104700699531031  ANDROID_APPS  "
      ]
     },
     "execution_count": 15,
     "metadata": {},
     "output_type": "execute_result"
    }
   ],
   "source": [
    "path = '../data/BA501_python_data.csv'\n",
    "data = pd.read_csv(path)\n",
    "data.head()"
   ]
  },
  {
   "cell_type": "code",
   "execution_count": 16,
   "metadata": {},
   "outputs": [
    {
     "name": "stdout",
     "output_type": "stream",
     "text": [
      "73910 14 7\n"
     ]
    }
   ],
   "source": [
    "## remove duplication\n",
    "dup_data =data[['experiment_id', 'vertical']]\n",
    "unique_data = dup_data.drop_duplicates()\n",
    "unique_data_on_selected_colum = dup_data.drop_duplicates(['vertical'])\n",
    "# print the number of rows after remove duplication\n",
    "print(dup_data.shape[0],unique_data.shape[0],unique_data_on_selected_colum.shape[0])"
   ]
  },
  {
   "cell_type": "markdown",
   "metadata": {},
   "source": [
    "## Question 1-b\n",
    "### Manipulation tables in python and SQL\n",
    "You are given two tables - friend_request and request_accepted. Friend_request contains requester_id, time and sent_to_id and request_accepted table contains time, acceptor_id and requester_id. How will you determine the overall acceptance rate of requests?"
   ]
  },
  {
   "cell_type": "code",
   "execution_count": 17,
   "metadata": {},
   "outputs": [
    {
     "data": {
      "text/html": [
       "<div>\n",
       "<style>\n",
       "    .dataframe thead tr:only-child th {\n",
       "        text-align: right;\n",
       "    }\n",
       "\n",
       "    .dataframe thead th {\n",
       "        text-align: left;\n",
       "    }\n",
       "\n",
       "    .dataframe tbody tr th {\n",
       "        vertical-align: top;\n",
       "    }\n",
       "</style>\n",
       "<table border=\"1\" class=\"dataframe\">\n",
       "  <thead>\n",
       "    <tr style=\"text-align: right;\">\n",
       "      <th></th>\n",
       "      <th>requester_id</th>\n",
       "      <th>accepter_id</th>\n",
       "      <th>time</th>\n",
       "    </tr>\n",
       "  </thead>\n",
       "  <tbody>\n",
       "    <tr>\n",
       "      <th>0</th>\n",
       "      <td>877</td>\n",
       "      <td>481</td>\n",
       "      <td>72680</td>\n",
       "    </tr>\n",
       "    <tr>\n",
       "      <th>1</th>\n",
       "      <td>201</td>\n",
       "      <td>548</td>\n",
       "      <td>15573</td>\n",
       "    </tr>\n",
       "    <tr>\n",
       "      <th>2</th>\n",
       "      <td>993</td>\n",
       "      <td>398</td>\n",
       "      <td>31925</td>\n",
       "    </tr>\n",
       "    <tr>\n",
       "      <th>3</th>\n",
       "      <td>578</td>\n",
       "      <td>424</td>\n",
       "      <td>23297</td>\n",
       "    </tr>\n",
       "    <tr>\n",
       "      <th>4</th>\n",
       "      <td>926</td>\n",
       "      <td>458</td>\n",
       "      <td>80057</td>\n",
       "    </tr>\n",
       "  </tbody>\n",
       "</table>\n",
       "</div>"
      ],
      "text/plain": [
       "   requester_id  accepter_id   time\n",
       "0           877          481  72680\n",
       "1           201          548  15573\n",
       "2           993          398  31925\n",
       "3           578          424  23297\n",
       "4           926          458  80057"
      ]
     },
     "execution_count": 17,
     "metadata": {},
     "output_type": "execute_result"
    }
   ],
   "source": [
    "## fake data\n",
    "friend_request = pd.DataFrame(\n",
    "    {\n",
    "        'requester_id': np.random.randint(1000,size=1000),\n",
    "        'time':np.random.randint(100000,size=1000),\n",
    "        'send_to_id': np.random.randint(1000,size=1000)\n",
    "    }\n",
    ")\n",
    "\n",
    "request_accepted = friend_request.sample(frac=0.5,random_state=999)\n",
    "request_accepted.columns = ['requester_id','accepter_id','time']\n",
    "request_accepted.time = [x + np.random.randint(10) for x in request_accepted['time']]\n",
    "request_accepted = request_accepted.reset_index(drop = True)\n",
    "request_accepted.head()"
   ]
  },
  {
   "cell_type": "code",
   "execution_count": 18,
   "metadata": {},
   "outputs": [
    {
     "data": {
      "text/html": [
       "<div>\n",
       "<style>\n",
       "    .dataframe thead tr:only-child th {\n",
       "        text-align: right;\n",
       "    }\n",
       "\n",
       "    .dataframe thead th {\n",
       "        text-align: left;\n",
       "    }\n",
       "\n",
       "    .dataframe tbody tr th {\n",
       "        vertical-align: top;\n",
       "    }\n",
       "</style>\n",
       "<table border=\"1\" class=\"dataframe\">\n",
       "  <thead>\n",
       "    <tr style=\"text-align: right;\">\n",
       "      <th></th>\n",
       "      <th>requester_id</th>\n",
       "      <th>send_to_id</th>\n",
       "      <th>time_x</th>\n",
       "      <th>accepter_id</th>\n",
       "      <th>time_y</th>\n",
       "    </tr>\n",
       "  </thead>\n",
       "  <tbody>\n",
       "    <tr>\n",
       "      <th>0</th>\n",
       "      <td>559</td>\n",
       "      <td>304</td>\n",
       "      <td>21031</td>\n",
       "      <td>304.0</td>\n",
       "      <td>21033.0</td>\n",
       "    </tr>\n",
       "    <tr>\n",
       "      <th>1</th>\n",
       "      <td>217</td>\n",
       "      <td>717</td>\n",
       "      <td>62576</td>\n",
       "      <td>717.0</td>\n",
       "      <td>62579.0</td>\n",
       "    </tr>\n",
       "    <tr>\n",
       "      <th>2</th>\n",
       "      <td>357</td>\n",
       "      <td>416</td>\n",
       "      <td>22231</td>\n",
       "      <td>NaN</td>\n",
       "      <td>NaN</td>\n",
       "    </tr>\n",
       "    <tr>\n",
       "      <th>3</th>\n",
       "      <td>553</td>\n",
       "      <td>956</td>\n",
       "      <td>12740</td>\n",
       "      <td>956.0</td>\n",
       "      <td>12747.0</td>\n",
       "    </tr>\n",
       "    <tr>\n",
       "      <th>4</th>\n",
       "      <td>520</td>\n",
       "      <td>210</td>\n",
       "      <td>98177</td>\n",
       "      <td>210.0</td>\n",
       "      <td>98183.0</td>\n",
       "    </tr>\n",
       "  </tbody>\n",
       "</table>\n",
       "</div>"
      ],
      "text/plain": [
       "   requester_id  send_to_id  time_x  accepter_id   time_y\n",
       "0           559         304   21031        304.0  21033.0\n",
       "1           217         717   62576        717.0  62579.0\n",
       "2           357         416   22231          NaN      NaN\n",
       "3           553         956   12740        956.0  12747.0\n",
       "4           520         210   98177        210.0  98183.0"
      ]
     },
     "execution_count": 18,
     "metadata": {},
     "output_type": "execute_result"
    }
   ],
   "source": [
    "## calculate acceptance rate (around 50%)\n",
    "### Merge two database\n",
    "merge_data = pd.merge(friend_request, request_accepted, how = 'left',\n",
    "              left_on=['requester_id','send_to_id'], right_on=['requester_id', 'accepter_id'] )\n",
    "merge_data.head()"
   ]
  },
  {
   "cell_type": "code",
   "execution_count": 19,
   "metadata": {},
   "outputs": [
    {
     "data": {
      "text/plain": [
       "0.449"
      ]
     },
     "execution_count": 19,
     "metadata": {},
     "output_type": "execute_result"
    }
   ],
   "source": [
    "accepted = merge_data[(merge_data.accepter_id.notnull()) & (merge_data.time_x < merge_data.time_y) ]\\\n",
    "            .drop_duplicates(['requester_id','send_to_id'])\\\n",
    "            .shape[0]\n",
    "        \n",
    "all_request = merge_data.drop_duplicates(['requester_id','send_to_id']).shape[0]\n",
    "acceptance_rate = accepted/all_request\n",
    "acceptance_rate"
   ]
  },
  {
   "cell_type": "markdown",
   "metadata": {},
   "source": [
    "### implementation in sql\n",
    "\n",
    "```SQL\n",
    "/* get number of accepted request */\n",
    "SELECT count(*)\n",
    "FROM friend_request fr INNER JOIN request_accepted ra\n",
    "ON fr.requester_id = ra.requester_id \n",
    "   AND fr.send_to_id = ra.accepter_id\n",
    "WHERE fr.time < ra.time AND ra.accepter_id\n",
    "GROUP BY fr.requester_id,fr.send_to_id \n",
    "\n",
    "/*get number of all request*/\n",
    "SELECT count(*)\n",
    "FROM firend_request fr\n",
    "GROUP BY fr.requester_id, fr.send_to_id\n",
    "```\n"
   ]
  },
  {
   "cell_type": "markdown",
   "metadata": {
    "collapsed": true
   },
   "source": [
    "## Question 3-C\n",
    "\n",
    "Do some research and summarize the business model of your dream company, or company that you interview with.\n",
    "- What is the product\n",
    "- Who are the customer\n",
    "- How do they make money\n",
    "- Why do you want to work for this company?"
   ]
  },
  {
   "cell_type": "markdown",
   "metadata": {},
   "source": [
    "### Answers:\n",
    "#### Linkedin Sales Solution (interviewing)\n",
    "- What is the product\n",
    "    - Sales navigator\n",
    "- Who are the customer\n",
    "    - salse represantatives who needs to find new leads for their product and the company they work for\n",
    "- How do they make money\n",
    "    - selling licencse to individual and teams as subscription\n",
    "- Why do you want to work for this company\n",
    "    - social selling is an very new and interesting subject to study\n",
    "    - Joining linkedin not only allow me to have the chance to study on this subject with massive data it also provide the opportunity for me to make impact and help people during this process.\n",
    "\n"
   ]
  },
  {
   "cell_type": "markdown",
   "metadata": {},
   "source": [
    "## Question 2-a\n",
    "Similarly to PrintDailyTimeSeries() in the sample code, write a Python function called PrintCumulativeTimeSeries(). Specifically:\n",
    "\n",
    "- The function takes three inputs:\n",
    "    - experiment_id\n",
    "    - country\n",
    "    - vertical\n",
    "\n",
    "- The function produces two outputs:\n",
    "    - A time series chart showing the cumulative uplift (hint: search for cumsum)\n",
    "    - Print out the cumulative % uplift on revenue, experiment vs. control. Hint: (red - blue) / blue %\n"
   ]
  },
  {
   "cell_type": "code",
   "execution_count": 20,
   "metadata": {},
   "outputs": [
    {
     "data": {
      "text/html": [
       "<div>\n",
       "<style>\n",
       "    .dataframe thead tr:only-child th {\n",
       "        text-align: right;\n",
       "    }\n",
       "\n",
       "    .dataframe thead th {\n",
       "        text-align: left;\n",
       "    }\n",
       "\n",
       "    .dataframe tbody tr th {\n",
       "        vertical-align: top;\n",
       "    }\n",
       "</style>\n",
       "<table border=\"1\" class=\"dataframe\">\n",
       "  <thead>\n",
       "    <tr style=\"text-align: right;\">\n",
       "      <th></th>\n",
       "      <th>requester_id</th>\n",
       "      <th>send_to_id</th>\n",
       "      <th>time_x</th>\n",
       "      <th>accepter_id</th>\n",
       "      <th>time_y</th>\n",
       "    </tr>\n",
       "  </thead>\n",
       "  <tbody>\n",
       "    <tr>\n",
       "      <th>0</th>\n",
       "      <td>559</td>\n",
       "      <td>304</td>\n",
       "      <td>21031</td>\n",
       "      <td>304.0</td>\n",
       "      <td>21033.0</td>\n",
       "    </tr>\n",
       "    <tr>\n",
       "      <th>1</th>\n",
       "      <td>217</td>\n",
       "      <td>717</td>\n",
       "      <td>62576</td>\n",
       "      <td>717.0</td>\n",
       "      <td>62579.0</td>\n",
       "    </tr>\n",
       "    <tr>\n",
       "      <th>2</th>\n",
       "      <td>357</td>\n",
       "      <td>416</td>\n",
       "      <td>22231</td>\n",
       "      <td>NaN</td>\n",
       "      <td>NaN</td>\n",
       "    </tr>\n",
       "    <tr>\n",
       "      <th>3</th>\n",
       "      <td>553</td>\n",
       "      <td>956</td>\n",
       "      <td>12740</td>\n",
       "      <td>956.0</td>\n",
       "      <td>12747.0</td>\n",
       "    </tr>\n",
       "    <tr>\n",
       "      <th>4</th>\n",
       "      <td>520</td>\n",
       "      <td>210</td>\n",
       "      <td>98177</td>\n",
       "      <td>210.0</td>\n",
       "      <td>98183.0</td>\n",
       "    </tr>\n",
       "  </tbody>\n",
       "</table>\n",
       "</div>"
      ],
      "text/plain": [
       "   requester_id  send_to_id  time_x  accepter_id   time_y\n",
       "0           559         304   21031        304.0  21033.0\n",
       "1           217         717   62576        717.0  62579.0\n",
       "2           357         416   22231          NaN      NaN\n",
       "3           553         956   12740        956.0  12747.0\n",
       "4           520         210   98177        210.0  98183.0"
      ]
     },
     "execution_count": 20,
     "metadata": {},
     "output_type": "execute_result"
    }
   ],
   "source": [
    "merge_data.head()"
   ]
  },
  {
   "cell_type": "code",
   "execution_count": 21,
   "metadata": {
    "collapsed": true
   },
   "outputs": [],
   "source": [
    "def Pltexp(result,experiment_ids):\n",
    "    experiment = result['experiment']\n",
    "    control = result['control']\n",
    "    fig, ax = plt.subplots()\n",
    "    \n",
    "    \n",
    "    ax.plot(experiment, color='red', label='experiment: %d' % (experiment_ids[0]))\n",
    "    ax.plot(control, color='blue', label='control: %d' % (experiment_ids[1]))\n",
    "\n",
    "    ## tweeks\n",
    "    ax.set_title(\"cumulative spend\")\n",
    "    ax.set_ylabel(\"total spend\")\n",
    "    ax.set_xlabel(\"\")\n",
    "    ax.grid(True, which = \"both\")\n",
    "\n",
    "    ## change legend\n",
    "    ax.legend()\n",
    "    plt.gcf().autofmt_xdate()\n",
    "    return"
   ]
  },
  {
   "cell_type": "code",
   "execution_count": 93,
   "metadata": {},
   "outputs": [],
   "source": [
    "def GetCumulativeSeries(df,experiment_id, country, vertical):\n",
    "        series = df[['date','spend_usd']]\\\n",
    "                [(df.experiment_id == experiment_id) & (df.vertical == vertical) & (df.country == country)]\\\n",
    "                .groupby('date')['spend_usd'].sum().cumsum()\n",
    "        return series\n",
    "\n",
    "def PrintDailyTimeSeries(df, experiment_ids,country,vertical):\n",
    "    experiment = GetCumulativeSeries(df,experiment_ids[0],country,vertical)      \n",
    "    control = GetCumulativeSeries(df,experiment_ids[1],country,vertical)\n",
    "    #print(experiment)\n",
    "    result = pd.concat([experiment,control], axis = 1) # merge two series into one data frame on index\n",
    "    result.columns = ['experiment', 'control']\n",
    "    result.index = pd.to_datetime(result.index, format='%Y%m%d')\n",
    "    \n",
    "    uplift_on_revenue = (result.experiment[-1] - result.control[-1])/result.control[-1]\n",
    "    print(\"the uplift on revenue for %s, on %s is %.2f %%\" % (country, vertical, uplift_on_revenue * 100))\n",
    "    Pltexp(result,experiment_ids)\n",
    "    return uplift_on_revenue"
   ]
  },
  {
   "cell_type": "code",
   "execution_count": 100,
   "metadata": {
    "collapsed": true
   },
   "outputs": [],
   "source": [
    "df = data\n",
    "experiment_ids = [12624548,12624549]\n",
    "country = 'JP'\n",
    "vertical = 'ANDROID_APPS'"
   ]
  },
  {
   "cell_type": "code",
   "execution_count": 101,
   "metadata": {},
   "outputs": [
    {
     "name": "stdout",
     "output_type": "stream",
     "text": [
      "the uplift on revenue for JP, on ANDROID_APPS is -2.69 %\n"
     ]
    },
    {
     "data": {
      "text/plain": [
       "-0.026854791909645907"
      ]
     },
     "execution_count": 101,
     "metadata": {},
     "output_type": "execute_result"
    },
    {
     "data": {
      "image/png": "[encoded data removed]",
      "text/plain": [
       "<matplotlib.figure.Figure at 0x7f26c216f780>"
      ]
     },
     "metadata": {},
     "output_type": "display_data"
    }
   ],
   "source": [
    "PrintDailyTimeSeries(df,experiment_ids,country,vertical)"
   ]
  },
  {
   "cell_type": "code",
   "execution_count": null,
   "metadata": {
    "collapsed": true
   },
   "outputs": [],
   "source": []
  },
  {
   "cell_type": "code",
   "execution_count": null,
   "metadata": {
    "collapsed": true
   },
   "outputs": [],
   "source": []
  }
 ],
 "metadata": {
  "kernelspec": {
   "display_name": "Python 3",
   "language": "python",
   "name": "python3"
  },
  "language_info": {
   "codemirror_mode": {
    "name": "ipython",
    "version": 3
   },
   "file_extension": ".py",
   "mimetype": "text/x-python",
   "name": "python",
   "nbconvert_exporter": "python",
   "pygments_lexer": "ipython3",
   "version": "3.5.2"
  }
 },
 "nbformat": 4,
 "nbformat_minor": 2
}
