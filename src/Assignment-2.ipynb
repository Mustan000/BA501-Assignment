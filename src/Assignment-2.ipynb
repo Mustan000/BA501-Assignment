{
 "cells": [
  {
   "cell_type": "code",
   "execution_count": 26,
   "metadata": {},
   "outputs": [
    {
     "data": {
      "text/html": [
       "<script>jQuery(function() {if (jQuery(\"body.notebook_app\").length == 0) { jQuery(\".input_area\").toggle(); jQuery(\".prompt\").toggle();}});</script>"
      ]
     },
     "metadata": {},
     "output_type": "display_data"
    },
    {
     "data": {
      "text/html": [
       "<button onclick=\"jQuery('.input_area').toggle(); jQuery('.prompt').toggle();\">Toggle code</button>"
      ]
     },
     "metadata": {},
     "output_type": "display_data"
    }
   ],
   "source": [
    "%matplotlib inline\n",
    "import numpy as np\n",
    "import pandas as pd\n",
    "import matplotlib.pyplot as plt\n",
    "import datetime\n",
    "\n",
    "from IPython.display import display\n",
    "from IPython.display import HTML\n",
    "import IPython.core.display as di\n",
    "\n",
    "# This line will hide code by default when the notebook is exported as HTML\n",
    "di.display_html('<script>jQuery(function() {if (jQuery(\"body.notebook_app\").length == 0) { jQuery(\".input_area\").toggle(); jQuery(\".prompt\").toggle();}});</script>', raw=True)\n",
    "\n",
    "# This line will add a button to toggle visibility of code blocks, for use with the HTML export version\n",
    "di.display_html('''<button onclick=\"jQuery('.input_area').toggle(); jQuery('.prompt').toggle();\">Toggle code</button>''', raw=True)"
   ]
  },
  {
   "cell_type": "markdown",
   "metadata": {},
   "source": [
    "## Question 1-a\n",
    "handling duplicate value in a dataset in Python"
   ]
  },
  {
   "cell_type": "code",
   "execution_count": 2,
   "metadata": {
    "collapsed": true
   },
   "outputs": [],
   "source": [
    "# Import data from csv file"
   ]
  },
  {
   "cell_type": "code",
   "execution_count": 3,
   "metadata": {},
   "outputs": [
    {
     "data": {
      "text/html": [
       "<div>\n",
       "<style>\n",
       "    .dataframe thead tr:only-child th {\n",
       "        text-align: right;\n",
       "    }\n",
       "\n",
       "    .dataframe thead th {\n",
       "        text-align: left;\n",
       "    }\n",
       "\n",
       "    .dataframe tbody tr th {\n",
       "        vertical-align: top;\n",
       "    }\n",
       "</style>\n",
       "<table border=\"1\" class=\"dataframe\">\n",
       "  <thead>\n",
       "    <tr style=\"text-align: right;\">\n",
       "      <th></th>\n",
       "      <th>country</th>\n",
       "      <th>date</th>\n",
       "      <th>experiment_id</th>\n",
       "      <th>order_id</th>\n",
       "      <th>spend_usd</th>\n",
       "      <th>user_id</th>\n",
       "      <th>vertical</th>\n",
       "    </tr>\n",
       "  </thead>\n",
       "  <tbody>\n",
       "    <tr>\n",
       "      <th>0</th>\n",
       "      <td>JP</td>\n",
       "      <td>20170402</td>\n",
       "      <td>12624548</td>\n",
       "      <td>5813140433216629693</td>\n",
       "      <td>16.138855</td>\n",
       "      <td>5006730028073359543</td>\n",
       "      <td>ANDROID_APPS</td>\n",
       "    </tr>\n",
       "    <tr>\n",
       "      <th>1</th>\n",
       "      <td>US</td>\n",
       "      <td>20170403</td>\n",
       "      <td>12624549</td>\n",
       "      <td>16333056276711034931</td>\n",
       "      <td>9.990000</td>\n",
       "      <td>5938685669571545259</td>\n",
       "      <td>ANDROID_APPS</td>\n",
       "    </tr>\n",
       "    <tr>\n",
       "      <th>2</th>\n",
       "      <td>JP</td>\n",
       "      <td>20170404</td>\n",
       "      <td>12624548</td>\n",
       "      <td>11227119161741298366</td>\n",
       "      <td>19.887087</td>\n",
       "      <td>17623708458399141713</td>\n",
       "      <td>ANDROID_APPS</td>\n",
       "    </tr>\n",
       "    <tr>\n",
       "      <th>3</th>\n",
       "      <td>US</td>\n",
       "      <td>20170403</td>\n",
       "      <td>12624548</td>\n",
       "      <td>11927299833124210932</td>\n",
       "      <td>19.990000</td>\n",
       "      <td>18042812344456618148</td>\n",
       "      <td>ANDROID_APPS</td>\n",
       "    </tr>\n",
       "    <tr>\n",
       "      <th>4</th>\n",
       "      <td>JP</td>\n",
       "      <td>20170403</td>\n",
       "      <td>12624549</td>\n",
       "      <td>11644727017708872749</td>\n",
       "      <td>88.220093</td>\n",
       "      <td>4325104700699531031</td>\n",
       "      <td>ANDROID_APPS</td>\n",
       "    </tr>\n",
       "  </tbody>\n",
       "</table>\n",
       "</div>"
      ],
      "text/plain": [
       "  country      date  experiment_id              order_id  spend_usd  \\\n",
       "0      JP  20170402       12624548   5813140433216629693  16.138855   \n",
       "1      US  20170403       12624549  16333056276711034931   9.990000   \n",
       "2      JP  20170404       12624548  11227119161741298366  19.887087   \n",
       "3      US  20170403       12624548  11927299833124210932  19.990000   \n",
       "4      JP  20170403       12624549  11644727017708872749  88.220093   \n",
       "\n",
       "                user_id      vertical  \n",
       "0   5006730028073359543  ANDROID_APPS  \n",
       "1   5938685669571545259  ANDROID_APPS  \n",
       "2  17623708458399141713  ANDROID_APPS  \n",
       "3  18042812344456618148  ANDROID_APPS  \n",
       "4   4325104700699531031  ANDROID_APPS  "
      ]
     },
     "execution_count": 3,
     "metadata": {},
     "output_type": "execute_result"
    }
   ],
   "source": [
    "path = '../data/BA501_python_data.csv'\n",
    "data = pd.read_csv(path)\n",
    "data.head()"
   ]
  },
  {
   "cell_type": "code",
   "execution_count": 4,
   "metadata": {},
   "outputs": [
    {
     "name": "stdout",
     "output_type": "stream",
     "text": [
      "73910 14 7\n"
     ]
    }
   ],
   "source": [
    "## remove duplication\n",
    "dup_data =data[['experiment_id', 'vertical']]\n",
    "unique_data = dup_data.drop_duplicates()\n",
    "unique_data_on_selected_colum = dup_data.drop_duplicates(['vertical'])\n",
    "# print the number of rows after remove duplication\n",
    "print(dup_data.shape[0],unique_data.shape[0],unique_data_on_selected_colum.shape[0])"
   ]
  },
  {
   "cell_type": "markdown",
   "metadata": {},
   "source": [
    "## Question 1-b\n",
    "### Manipulation tables in python and SQL\n",
    "You are given two tables - friend_request and request_accepted. Friend_request contains requester_id, time and sent_to_id and request_accepted table contains time, acceptor_id and requester_id. How will you determine the overall acceptance rate of requests?"
   ]
  },
  {
   "cell_type": "code",
   "execution_count": 5,
   "metadata": {},
   "outputs": [
    {
     "data": {
      "text/html": [
       "<div>\n",
       "<style>\n",
       "    .dataframe thead tr:only-child th {\n",
       "        text-align: right;\n",
       "    }\n",
       "\n",
       "    .dataframe thead th {\n",
       "        text-align: left;\n",
       "    }\n",
       "\n",
       "    .dataframe tbody tr th {\n",
       "        vertical-align: top;\n",
       "    }\n",
       "</style>\n",
       "<table border=\"1\" class=\"dataframe\">\n",
       "  <thead>\n",
       "    <tr style=\"text-align: right;\">\n",
       "      <th></th>\n",
       "      <th>requester_id</th>\n",
       "      <th>accepter_id</th>\n",
       "      <th>time</th>\n",
       "    </tr>\n",
       "  </thead>\n",
       "  <tbody>\n",
       "    <tr>\n",
       "      <th>0</th>\n",
       "      <td>189</td>\n",
       "      <td>153</td>\n",
       "      <td>14014</td>\n",
       "    </tr>\n",
       "    <tr>\n",
       "      <th>1</th>\n",
       "      <td>246</td>\n",
       "      <td>436</td>\n",
       "      <td>88498</td>\n",
       "    </tr>\n",
       "    <tr>\n",
       "      <th>2</th>\n",
       "      <td>69</td>\n",
       "      <td>23</td>\n",
       "      <td>9795</td>\n",
       "    </tr>\n",
       "    <tr>\n",
       "      <th>3</th>\n",
       "      <td>163</td>\n",
       "      <td>155</td>\n",
       "      <td>23146</td>\n",
       "    </tr>\n",
       "    <tr>\n",
       "      <th>4</th>\n",
       "      <td>998</td>\n",
       "      <td>324</td>\n",
       "      <td>69032</td>\n",
       "    </tr>\n",
       "  </tbody>\n",
       "</table>\n",
       "</div>"
      ],
      "text/plain": [
       "   requester_id  accepter_id   time\n",
       "0           189          153  14014\n",
       "1           246          436  88498\n",
       "2            69           23   9795\n",
       "3           163          155  23146\n",
       "4           998          324  69032"
      ]
     },
     "execution_count": 5,
     "metadata": {},
     "output_type": "execute_result"
    }
   ],
   "source": [
    "## fake data\n",
    "friend_request = pd.DataFrame(\n",
    "    {\n",
    "        'requester_id': np.random.randint(1000,size=1000),\n",
    "        'time':np.random.randint(100000,size=1000),\n",
    "        'send_to_id': np.random.randint(1000,size=1000)\n",
    "    }\n",
    ")\n",
    "\n",
    "request_accepted = friend_request.sample(frac=0.5,random_state=999)\n",
    "request_accepted.columns = ['requester_id','accepter_id','time']\n",
    "request_accepted.time = [x + np.random.randint(10) for x in request_accepted['time']]\n",
    "request_accepted = request_accepted.reset_index(drop = True)\n",
    "request_accepted.head()"
   ]
  },
  {
   "cell_type": "code",
   "execution_count": 6,
   "metadata": {},
   "outputs": [
    {
     "data": {
      "text/html": [
       "<div>\n",
       "<style>\n",
       "    .dataframe thead tr:only-child th {\n",
       "        text-align: right;\n",
       "    }\n",
       "\n",
       "    .dataframe thead th {\n",
       "        text-align: left;\n",
       "    }\n",
       "\n",
       "    .dataframe tbody tr th {\n",
       "        vertical-align: top;\n",
       "    }\n",
       "</style>\n",
       "<table border=\"1\" class=\"dataframe\">\n",
       "  <thead>\n",
       "    <tr style=\"text-align: right;\">\n",
       "      <th></th>\n",
       "      <th>requester_id</th>\n",
       "      <th>send_to_id</th>\n",
       "      <th>time_x</th>\n",
       "      <th>accepter_id</th>\n",
       "      <th>time_y</th>\n",
       "    </tr>\n",
       "  </thead>\n",
       "  <tbody>\n",
       "    <tr>\n",
       "      <th>0</th>\n",
       "      <td>322</td>\n",
       "      <td>772</td>\n",
       "      <td>66047</td>\n",
       "      <td>772.0</td>\n",
       "      <td>66054.0</td>\n",
       "    </tr>\n",
       "    <tr>\n",
       "      <th>1</th>\n",
       "      <td>770</td>\n",
       "      <td>801</td>\n",
       "      <td>76474</td>\n",
       "      <td>801.0</td>\n",
       "      <td>76480.0</td>\n",
       "    </tr>\n",
       "    <tr>\n",
       "      <th>2</th>\n",
       "      <td>58</td>\n",
       "      <td>367</td>\n",
       "      <td>75400</td>\n",
       "      <td>NaN</td>\n",
       "      <td>NaN</td>\n",
       "    </tr>\n",
       "    <tr>\n",
       "      <th>3</th>\n",
       "      <td>654</td>\n",
       "      <td>105</td>\n",
       "      <td>81533</td>\n",
       "      <td>105.0</td>\n",
       "      <td>81537.0</td>\n",
       "    </tr>\n",
       "    <tr>\n",
       "      <th>4</th>\n",
       "      <td>397</td>\n",
       "      <td>664</td>\n",
       "      <td>88071</td>\n",
       "      <td>664.0</td>\n",
       "      <td>88076.0</td>\n",
       "    </tr>\n",
       "  </tbody>\n",
       "</table>\n",
       "</div>"
      ],
      "text/plain": [
       "   requester_id  send_to_id  time_x  accepter_id   time_y\n",
       "0           322         772   66047        772.0  66054.0\n",
       "1           770         801   76474        801.0  76480.0\n",
       "2            58         367   75400          NaN      NaN\n",
       "3           654         105   81533        105.0  81537.0\n",
       "4           397         664   88071        664.0  88076.0"
      ]
     },
     "execution_count": 6,
     "metadata": {},
     "output_type": "execute_result"
    }
   ],
   "source": [
    "## calculate acceptance rate (around 50%)\n",
    "### Merge two database\n",
    "merge_data = pd.merge(friend_request, request_accepted, how = 'left',\n",
    "              left_on=['requester_id','send_to_id'], right_on=['requester_id', 'accepter_id'] )\n",
    "merge_data.head()"
   ]
  },
  {
   "cell_type": "code",
   "execution_count": 7,
   "metadata": {},
   "outputs": [
    {
     "data": {
      "text/plain": [
       "0.44288577154308617"
      ]
     },
     "execution_count": 7,
     "metadata": {},
     "output_type": "execute_result"
    }
   ],
   "source": [
    "accepted = merge_data[(merge_data.accepter_id.notnull()) & (merge_data.time_x < merge_data.time_y) ]\\\n",
    "            .drop_duplicates(['requester_id','send_to_id'])\\\n",
    "            .shape[0]\n",
    "        \n",
    "all_request = merge_data.drop_duplicates(['requester_id','send_to_id']).shape[0]\n",
    "acceptance_rate = accepted/all_request\n",
    "acceptance_rate"
   ]
  },
  {
   "cell_type": "markdown",
   "metadata": {},
   "source": [
    "### implementation in sql\n",
    "\n",
    "```SQL\n",
    "/* get number of accepted request */\n",
    "SELECT count(*)\n",
    "FROM friend_request fr INNER JOIN request_accepted ra\n",
    "ON fr.requester_id = ra.requester_id \n",
    "   AND fr.send_to_id = ra.accepter_id\n",
    "WHERE fr.time < ra.time AND ra.accepter_id\n",
    "GROUP BY fr.requester_id,fr.send_to_id \n",
    "\n",
    "/*get number of all request*/\n",
    "SELECT count(*)\n",
    "FROM firend_request fr\n",
    "GROUP BY fr.requester_id, fr.send_to_id\n",
    "```\n"
   ]
  },
  {
   "cell_type": "markdown",
   "metadata": {
    "collapsed": true
   },
   "source": [
    "## Question 3-C\n",
    "\n",
    "Do some research and summarize the business model of your dream company, or company that you interview with.\n",
    "- What is the product\n",
    "- Who are the customer\n",
    "- How do they make money\n",
    "- Why do you want to work for this company?"
   ]
  },
  {
   "cell_type": "markdown",
   "metadata": {},
   "source": [
    "### Answers:\n",
    "#### Linkedin Sales Solution (interviewing)\n",
    "- What is the product\n",
    "    - Sales navigator\n",
    "- Who are the customer\n",
    "    - salse represantatives who needs to find new leads for their product and the company they work for\n",
    "- How do they make money\n",
    "    - selling licencse to individual and teams as subscription\n",
    "- Why do you want to work for this company\n",
    "    - social selling is an very new and interesting subject to study\n",
    "    - Joining linkedin not only allow me to have the chance to study on this subject with massive data it also provide the opportunity for me to make impact and help people during this process.\n",
    "\n"
   ]
  },
  {
   "cell_type": "markdown",
   "metadata": {},
   "source": [
    "## Question 2-a\n",
    "Similarly to PrintDailyTimeSeries() in the sample code, write a Python function called PrintCumulativeTimeSeries(). Specifically:\n",
    "\n",
    "- The function takes three inputs:\n",
    "    - experiment_id\n",
    "    - country\n",
    "    - vertical\n",
    "\n",
    "- The function produces two outputs:\n",
    "    - A time series chart showing the cumulative uplift (hint: search for cumsum)\n",
    "    - Print out the cumulative % uplift on revenue, experiment vs. control. Hint: (red - blue) / blue %\n"
   ]
  },
  {
   "cell_type": "code",
   "execution_count": 18,
   "metadata": {},
   "outputs": [
    {
     "data": {
      "text/html": [
       "<div>\n",
       "<style>\n",
       "    .dataframe thead tr:only-child th {\n",
       "        text-align: right;\n",
       "    }\n",
       "\n",
       "    .dataframe thead th {\n",
       "        text-align: left;\n",
       "    }\n",
       "\n",
       "    .dataframe tbody tr th {\n",
       "        vertical-align: top;\n",
       "    }\n",
       "</style>\n",
       "<table border=\"1\" class=\"dataframe\">\n",
       "  <thead>\n",
       "    <tr style=\"text-align: right;\">\n",
       "      <th></th>\n",
       "      <th>country</th>\n",
       "      <th>date</th>\n",
       "      <th>experiment_id</th>\n",
       "      <th>order_id</th>\n",
       "      <th>spend_usd</th>\n",
       "      <th>user_id</th>\n",
       "      <th>vertical</th>\n",
       "    </tr>\n",
       "  </thead>\n",
       "  <tbody>\n",
       "    <tr>\n",
       "      <th>0</th>\n",
       "      <td>JP</td>\n",
       "      <td>20170402</td>\n",
       "      <td>12624548</td>\n",
       "      <td>5813140433216629693</td>\n",
       "      <td>16.138855</td>\n",
       "      <td>5006730028073359543</td>\n",
       "      <td>ANDROID_APPS</td>\n",
       "    </tr>\n",
       "    <tr>\n",
       "      <th>1</th>\n",
       "      <td>US</td>\n",
       "      <td>20170403</td>\n",
       "      <td>12624549</td>\n",
       "      <td>16333056276711034931</td>\n",
       "      <td>9.990000</td>\n",
       "      <td>5938685669571545259</td>\n",
       "      <td>ANDROID_APPS</td>\n",
       "    </tr>\n",
       "    <tr>\n",
       "      <th>2</th>\n",
       "      <td>JP</td>\n",
       "      <td>20170404</td>\n",
       "      <td>12624548</td>\n",
       "      <td>11227119161741298366</td>\n",
       "      <td>19.887087</td>\n",
       "      <td>17623708458399141713</td>\n",
       "      <td>ANDROID_APPS</td>\n",
       "    </tr>\n",
       "    <tr>\n",
       "      <th>3</th>\n",
       "      <td>US</td>\n",
       "      <td>20170403</td>\n",
       "      <td>12624548</td>\n",
       "      <td>11927299833124210932</td>\n",
       "      <td>19.990000</td>\n",
       "      <td>18042812344456618148</td>\n",
       "      <td>ANDROID_APPS</td>\n",
       "    </tr>\n",
       "    <tr>\n",
       "      <th>4</th>\n",
       "      <td>JP</td>\n",
       "      <td>20170403</td>\n",
       "      <td>12624549</td>\n",
       "      <td>11644727017708872749</td>\n",
       "      <td>88.220093</td>\n",
       "      <td>4325104700699531031</td>\n",
       "      <td>ANDROID_APPS</td>\n",
       "    </tr>\n",
       "  </tbody>\n",
       "</table>\n",
       "</div>"
      ],
      "text/plain": [
       "  country      date  experiment_id              order_id  spend_usd  \\\n",
       "0      JP  20170402       12624548   5813140433216629693  16.138855   \n",
       "1      US  20170403       12624549  16333056276711034931   9.990000   \n",
       "2      JP  20170404       12624548  11227119161741298366  19.887087   \n",
       "3      US  20170403       12624548  11927299833124210932  19.990000   \n",
       "4      JP  20170403       12624549  11644727017708872749  88.220093   \n",
       "\n",
       "                user_id      vertical  \n",
       "0   5006730028073359543  ANDROID_APPS  \n",
       "1   5938685669571545259  ANDROID_APPS  \n",
       "2  17623708458399141713  ANDROID_APPS  \n",
       "3  18042812344456618148  ANDROID_APPS  \n",
       "4   4325104700699531031  ANDROID_APPS  "
      ]
     },
     "execution_count": 18,
     "metadata": {},
     "output_type": "execute_result"
    }
   ],
   "source": [
    "df.head()"
   ]
  },
  {
   "cell_type": "code",
   "execution_count": 51,
   "metadata": {
    "collapsed": true
   },
   "outputs": [],
   "source": [
    "def Pltexp(result,experiment_ids):\n",
    "    experiment = result['experiment']\n",
    "    control = result['control']\n",
    "    fig, ax = plt.subplots()\n",
    "    ax.plot(experiment, color='red', label='experiment: %d' % (experiment_ids[0]))\n",
    "    ax.plot(control, color='blue', label='control: %d' % (experiment_ids[1]))\n",
    "\n",
    "    ## tweeks\n",
    "    ax.set_title(\"cumulative spend\")\n",
    "    ax.set_ylabel(\"total spend\")\n",
    "    ax.set_xlabel(\"\")\n",
    "    ax.grid(True, which = \"both\")\n",
    "\n",
    "    ## change legend\n",
    "    ax.legend()\n",
    "    plt.gcf().autofmt_xdate()\n",
    "    return"
   ]
  },
  {
   "cell_type": "code",
   "execution_count": 85,
   "metadata": {
    "collapsed": true
   },
   "outputs": [],
   "source": [
    "def PrintDailyTimeSeries(df, experiment_ids,country,vertical):\n",
    "    experiment = df[['date','spend_usd']]\\\n",
    "            [(df.experiment_id == experiment_ids[0]) & (df.vertical == vertical)]\\\n",
    "            .groupby('date')['spend_usd'].sum().cumsum()\n",
    "            \n",
    "    control = df[['date','spend_usd']]\\\n",
    "            [(df.experiment_id == experiment_ids[1]) & (df.vertical == vertical)]\\\n",
    "            .groupby('date')['spend_usd'].sum().cumsum()\n",
    "    \n",
    "    result = pd.concat([experiment,control], axis = 1) # merge two series into one data frame on index\n",
    "    result.columns = ['experiment', 'control']\n",
    "    result.index = pd.to_datetime(result.index, format='%Y%m%d')\n",
    "    \n",
    "    uplift_on_revenue = (result.experiment - result.control)/result.experiment\n",
    "    uplift_on_revenue = pd.DataFrame(uplift_on_revenue)\n",
    "    uplift_on_revenue.columns = ['Uplift on revenue']\n",
    "    Pltexp(result,experiment_ids)\n",
    "    return uplift_on_revenue"
   ]
  },
  {
   "cell_type": "code",
   "execution_count": 86,
   "metadata": {
    "collapsed": true
   },
   "outputs": [],
   "source": [
    "df = data\n",
    "experiment_ids = [12624548,12624549]\n",
    "country = 'US'\n",
    "vertical = 'ANDROID_APPS'"
   ]
  },
  {
   "cell_type": "code",
   "execution_count": 87,
   "metadata": {},
   "outputs": [
    {
     "data": {
      "text/html": [
       "<div>\n",
       "<style>\n",
       "    .dataframe thead tr:only-child th {\n",
       "        text-align: right;\n",
       "    }\n",
       "\n",
       "    .dataframe thead th {\n",
       "        text-align: left;\n",
       "    }\n",
       "\n",
       "    .dataframe tbody tr th {\n",
       "        vertical-align: top;\n",
       "    }\n",
       "</style>\n",
       "<table border=\"1\" class=\"dataframe\">\n",
       "  <thead>\n",
       "    <tr style=\"text-align: right;\">\n",
       "      <th></th>\n",
       "      <th>Uplift on revenue</th>\n",
       "    </tr>\n",
       "    <tr>\n",
       "      <th>date</th>\n",
       "      <th></th>\n",
       "    </tr>\n",
       "  </thead>\n",
       "  <tbody>\n",
       "    <tr>\n",
       "      <th>2017-04-01</th>\n",
       "      <td>0.051043</td>\n",
       "    </tr>\n",
       "    <tr>\n",
       "      <th>2017-04-02</th>\n",
       "      <td>0.014137</td>\n",
       "    </tr>\n",
       "    <tr>\n",
       "      <th>2017-04-03</th>\n",
       "      <td>0.038927</td>\n",
       "    </tr>\n",
       "    <tr>\n",
       "      <th>2017-04-04</th>\n",
       "      <td>0.032384</td>\n",
       "    </tr>\n",
       "    <tr>\n",
       "      <th>2017-04-05</th>\n",
       "      <td>0.016748</td>\n",
       "    </tr>\n",
       "    <tr>\n",
       "      <th>2017-04-06</th>\n",
       "      <td>-0.005831</td>\n",
       "    </tr>\n",
       "    <tr>\n",
       "      <th>2017-04-07</th>\n",
       "      <td>0.004310</td>\n",
       "    </tr>\n",
       "  </tbody>\n",
       "</table>\n",
       "</div>"
      ],
      "text/plain": [
       "            Uplift on revenue\n",
       "date                         \n",
       "2017-04-01           0.051043\n",
       "2017-04-02           0.014137\n",
       "2017-04-03           0.038927\n",
       "2017-04-04           0.032384\n",
       "2017-04-05           0.016748\n",
       "2017-04-06          -0.005831\n",
       "2017-04-07           0.004310"
      ]
     },
     "execution_count": 87,
     "metadata": {},
     "output_type": "execute_result"
    },
    {
     "data": {
      "image/png": "[encoded data removed]",
      "text/plain": [
       "<matplotlib.figure.Figure at 0x7fa3c4ed54e0>"
      ]
     },
     "metadata": {},
     "output_type": "display_data"
    }
   ],
   "source": [
    "PrintDailyTimeSeries(df,experiment_ids,country,vertical)"
   ]
  }
 ],
 "metadata": {
  "kernelspec": {
   "display_name": "Python 3",
   "language": "python",
   "name": "python3"
  },
  "language_info": {
   "codemirror_mode": {
    "name": "ipython",
    "version": 3
   },
   "file_extension": ".py",
   "mimetype": "text/x-python",
   "name": "python",
   "nbconvert_exporter": "python",
   "pygments_lexer": "ipython3",
   "version": "3.5.2"
  }
 },
 "nbformat": 4,
 "nbformat_minor": 2
}
